{
 "cells": [
  {
   "cell_type": "code",
   "execution_count": null,
   "id": "ef853db9-b234-4211-abdb-214f5143d2d9",
   "metadata": {},
   "outputs": [],
   "source": [
    "df_train = pd.read_csv('../../../datasets/used_bike/Used_Bikes.csv')"
   ]
  }
 ],
 "metadata": {
  "kernelspec": {
   "display_name": "Python [conda env:dsml38_env1]",
   "language": "python",
   "name": "conda-env-dsml38_env1-py"
  },
  "language_info": {
   "codemirror_mode": {
    "name": "ipython",
    "version": 3
   },
   "file_extension": ".py",
   "mimetype": "text/x-python",
   "name": "python",
   "nbconvert_exporter": "python",
   "pygments_lexer": "ipython3",
   "version": "3.9.23"
  }
 },
 "nbformat": 4,
 "nbformat_minor": 5
}
